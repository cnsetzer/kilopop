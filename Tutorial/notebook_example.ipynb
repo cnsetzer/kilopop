{
 "cells": [
  {
   "cell_type": "code",
   "execution_count": 1,
   "id": "06c1705d",
   "metadata": {},
   "outputs": [],
   "source": [
    "%matplotlib notebook\n",
    "import matplotlib.pyplot as plt"
   ]
  },
  {
   "cell_type": "code",
   "execution_count": 2,
   "id": "7577bf38",
   "metadata": {},
   "outputs": [
    {
     "name": "stderr",
     "output_type": "stream",
     "text": [
      "WARNING: AstropyDeprecationWarning: The update_default_config function is deprecated and may be removed in a future version. [sncosmo]\n"
     ]
    }
   ],
   "source": [
    "from bnspopkne.kne import Setzer2022_kilonova as saeev\n",
    "from bnspopkne.kne import Setzer2022_population_parameter_distribution as s22p"
   ]
  },
  {
   "cell_type": "code",
   "execution_count": 3,
   "id": "b154e217",
   "metadata": {},
   "outputs": [
    {
     "name": "stdout",
     "output_type": "stream",
     "text": [
      "Should only see this once. EOS\n",
      "Should only see this once. GP\n"
     ]
    }
   ],
   "source": [
    "test_inst = saeev(\n",
    "    mass1=1.5,\n",
    "    mass2=1.5,\n",
    ")"
   ]
  },
  {
   "cell_type": "code",
   "execution_count": 4,
   "id": "4127921c",
   "metadata": {},
   "outputs": [
    {
     "name": "stdout",
     "output_type": "stream",
     "text": [
      "mass1: 1.5\n",
      "mass2: 1.5\n",
      "compactness1: 0.18709909513866615\n",
      "compactness2: 0.18709909513866615\n",
      "viewing_angle: 0.8306765775769936\n",
      "electron_fraction: 0.2647240333571553\n",
      "dynamical_ejecta_mass: 0.0031141174707924844\n",
      "median_ejecta_velocity: 0.25626358545511224\n",
      "grey_opacity: 2.165022444540947\n",
      "secular_ejecta_mass: 0.0465869510256328\n",
      "total_ejecta_mass: 0.04970106849642529\n",
      "disk_unbinding_efficiency: 0.29345002072375437\n"
     ]
    }
   ],
   "source": [
    "# List out the parameters of the BNS mergers kilonova and binary inspiral\n",
    "for i in range(12):\n",
    "    print(f\"{getattr(test_inst, f'param{i+1}_name')}: {getattr(test_inst, f'param{i+1}')}\")"
   ]
  },
  {
   "cell_type": "markdown",
   "id": "8e56ea9f",
   "metadata": {},
   "source": [
    "Note in current setup creating the population takes quite long, but it works."
   ]
  },
  {
   "cell_type": "code",
   "execution_count": 6,
   "id": "aa9eadfb",
   "metadata": {},
   "outputs": [
    {
     "name": "stderr",
     "output_type": "stream",
     "text": [
      "  0%|                                                                                                               | 0/10000 [00:00<?, ?it/s]WARNING: AstropyDeprecationWarning: The update_default_config function is deprecated and may be removed in a future version. [sncosmo]\n",
      "WARNING: AstropyDeprecationWarning: The update_default_config function is deprecated and may be removed in a future version. [sncosmo]\n",
      "WARNING: AstropyDeprecationWarning: The update_default_config function is deprecated and may be removed in a future version. [sncosmo]\n",
      "WARNING: AstropyDeprecationWarning: The update_default_config function is deprecated and may be removed in a future version. [sncosmo]\n",
      "/Users/cnsetzer/anaconda3/envs/bnspopkne/lib/python3.10/site-packages/sncosmo/models.py:189: RuntimeWarning: invalid value encountered in log10\n",
      "  result[i] = -2.5 * np.log10(f / zpf)\n",
      "/Users/cnsetzer/anaconda3/envs/bnspopkne/lib/python3.10/site-packages/sncosmo/models.py:189: RuntimeWarning: invalid value encountered in log10\n",
      "  result[i] = -2.5 * np.log10(f / zpf)\n",
      "/Users/cnsetzer/anaconda3/envs/bnspopkne/lib/python3.10/site-packages/sncosmo/models.py:189: RuntimeWarning: invalid value encountered in log10\n",
      "  result[i] = -2.5 * np.log10(f / zpf)\n",
      "/Users/cnsetzer/anaconda3/envs/bnspopkne/lib/python3.10/site-packages/sncosmo/models.py:189: RuntimeWarning: invalid value encountered in log10\n",
      "  result[i] = -2.5 * np.log10(f / zpf)\n",
      "100%|█████████████████████████████████████████████████████████████████████████████████████████████████| 10000/10000 [1:01:25<00:00,  2.71it/s]"
     ]
    },
    {
     "name": "stdout",
     "output_type": "stream",
     "text": [
      "Should only see this once. EOS\n",
      "Should only see this once. GP\n",
      "Should only see this once. EOS\n",
      "Should only see this once. GP\n"
     ]
    },
    {
     "name": "stderr",
     "output_type": "stream",
     "text": [
      "\n"
     ]
    }
   ],
   "source": [
    "test_dist = s22p(population_size=10000, only_draw_parameters=False, chunksize=50)"
   ]
  },
  {
   "cell_type": "code",
   "execution_count": null,
   "id": "0f306443",
   "metadata": {},
   "outputs": [],
   "source": []
  }
 ],
 "metadata": {
  "kernelspec": {
   "display_name": "bnspopkne",
   "language": "python",
   "name": "bnspopkne"
  },
  "language_info": {
   "codemirror_mode": {
    "name": "ipython",
    "version": 3
   },
   "file_extension": ".py",
   "mimetype": "text/x-python",
   "name": "python",
   "nbconvert_exporter": "python",
   "pygments_lexer": "ipython3",
   "version": "3.10.4"
  }
 },
 "nbformat": 4,
 "nbformat_minor": 5
}
