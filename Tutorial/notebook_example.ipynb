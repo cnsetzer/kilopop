{
 "cells": [
  {
   "cell_type": "markdown",
   "id": "6fd45128",
   "metadata": {},
   "source": [
    "# Simple Tutorial on How to Use the Model Provided in This Package"
   ]
  },
  {
   "cell_type": "code",
   "execution_count": null,
   "id": "06c1705d",
   "metadata": {},
   "outputs": [],
   "source": [
    "%matplotlib notebook\n",
    "import matplotlib.pyplot as plt"
   ]
  },
  {
   "cell_type": "code",
   "execution_count": null,
   "id": "7577bf38",
   "metadata": {},
   "outputs": [],
   "source": [
    "from bnspopkne.kilonovae import Setzer2022_kilonova as saeev\n",
    "from bnspopkne.kilonovae import Setzer2022_population_parameter_distribution as s22p\n",
    "import sncosmo"
   ]
  },
  {
   "cell_type": "markdown",
   "id": "ad914a69",
   "metadata": {},
   "source": [
    "In order to create an instance of the model, we actually do not need to specify any inputs. In that case, all parameters will be drawn from the distributions used in the accompanying paper."
   ]
  },
  {
   "cell_type": "code",
   "execution_count": null,
   "id": "b154e217",
   "metadata": {},
   "outputs": [],
   "source": [
    "test_inst = saeev()"
   ]
  },
  {
   "cell_type": "markdown",
   "id": "cddcad2a",
   "metadata": {},
   "source": [
    "Now we can see the values that each of the parameters of the model have taken."
   ]
  },
  {
   "cell_type": "code",
   "execution_count": null,
   "id": "4127921c",
   "metadata": {},
   "outputs": [],
   "source": [
    "# List out the parameters of the BNS mergers kilonova and binary inspiral\n",
    "for i in range(12):\n",
    "    print(f\"{getattr(test_inst, f'param{i+1}_name')}: {getattr(test_inst, f'param{i+1}')}\")"
   ]
  },
  {
   "cell_type": "markdown",
   "id": "8d1646a3",
   "metadata": {},
   "source": [
    "Of course, we can always specify any of these parameters ourselves. For example:"
   ]
  },
  {
   "cell_type": "code",
   "execution_count": null,
   "id": "b35c8736",
   "metadata": {},
   "outputs": [],
   "source": [
    "test_inst = saeev(mass1=1.35, mass2=1.35)"
   ]
  },
  {
   "cell_type": "code",
   "execution_count": null,
   "id": "3c00881e",
   "metadata": {},
   "outputs": [],
   "source": [
    "# List out the parameters of the BNS mergers kilonova and binary inspiral\n",
    "for i in range(12):\n",
    "    print(f\"{getattr(test_inst, f'param{i+1}_name')}: {getattr(test_inst, f'param{i+1}')}\")"
   ]
  },
  {
   "cell_type": "markdown",
   "id": "61b80df3",
   "metadata": {},
   "source": [
    "We can see that each intstance of the kilonova has different attributes:"
   ]
  },
  {
   "cell_type": "code",
   "execution_count": null,
   "id": "479b66f9",
   "metadata": {},
   "outputs": [],
   "source": [
    "test_inst.__dict__.keys()"
   ]
  },
  {
   "cell_type": "markdown",
   "id": "755f5655",
   "metadata": {},
   "source": [
    "Underneath this uses the frame of 'sncosmo.model' to handle the SED-timeseries for each realisation."
   ]
  },
  {
   "cell_type": "code",
   "execution_count": null,
   "id": "3f190655",
   "metadata": {},
   "outputs": [],
   "source": [
    "fig = sncosmo.plot_lc(model=test_inst.model, bands=['lsstg', 'lsstr', 'lssti','lsstz'])\n",
    "plt.show()"
   ]
  },
  {
   "cell_type": "markdown",
   "id": "8e56ea9f",
   "metadata": {},
   "source": [
    "We can also generate the distributions of parameters for a population of kilonovae.\n",
    "If we want to also compute the lightcurve properties, this can be a computationally intensive task for a personal computer or laptop. That being said, in this example we will only generate a population of 1000 kilonovae, as opposed to 50000 that was used in the paper."
   ]
  },
  {
   "cell_type": "code",
   "execution_count": null,
   "id": "aa9eadfb",
   "metadata": {},
   "outputs": [],
   "source": [
    "test_dist = s22p(population_size=1000, only_draw_parameters=False, chunk_size=100)"
   ]
  },
  {
   "cell_type": "markdown",
   "id": "5d4ad8c1",
   "metadata": {},
   "source": [
    "With this distribution generated, we can plot the parameter and lightcurve property distributions."
   ]
  },
  {
   "cell_type": "code",
   "execution_count": null,
   "id": "d9ede98d",
   "metadata": {},
   "outputs": [],
   "source": [
    "for i in range(12):\n",
    "    plt.figure()\n",
    "    plt.hist(getattr(test_dist, f'param{i+1}'))\n",
    "    plt.xlabel(getattr(test_dist, f'param{i+1}_name'))\n",
    "    plt.show()"
   ]
  },
  {
   "cell_type": "code",
   "execution_count": null,
   "id": "0f4c5aa9",
   "metadata": {},
   "outputs": [],
   "source": [
    "plt.figure()\n",
    "plt.hist(test_dist.peak_absmag_lssti, bins=20, density=True)\n",
    "plt.xlabel(r'$M_\\mathrm{abs, {\\it lssti}}$')\n",
    "plt.show()"
   ]
  },
  {
   "cell_type": "code",
   "execution_count": null,
   "id": "3924aa1d",
   "metadata": {},
   "outputs": [],
   "source": [
    "plt.figure()\n",
    "plt.hist(test_dist.one_mag_peak_time_lssti, bins=20, density=True)\n",
    "plt.xlabel(r'Time within 1-mag. of $M_\\mathrm{abs, {\\it lssti}}$')\n",
    "plt.xlim(0,5)\n",
    "plt.show()"
   ]
  },
  {
   "cell_type": "markdown",
   "id": "38362499",
   "metadata": {},
   "source": [
    "Note, a rare few high-opacity kilonovae have nearly flat evolution which can be seen above as those that spend significantly long amounts of time, >~5 days, within 1 magnitude of the peak mag. These will all be unobservable unless exceptionally nearby."
   ]
  },
  {
   "cell_type": "markdown",
   "id": "8b639271",
   "metadata": {},
   "source": [
    "We can also make scatter plots like in the paper of the distributed parameters."
   ]
  },
  {
   "cell_type": "code",
   "execution_count": null,
   "id": "4f3b225a",
   "metadata": {},
   "outputs": [],
   "source": [
    "# ejecta parameter scatterplot\n",
    "plt.figure()\n",
    "plt.scatter(test_dist.param11, test_dist.param8)\n",
    "plt.xlabel(r'$m_\\mathrm{ej,total}$ [$M_\\odot$]')\n",
    "plt.ylabel(r'$v_\\mathrm{ej}$ [$c$]')\n",
    "plt.show()"
   ]
  },
  {
   "cell_type": "code",
   "execution_count": null,
   "id": "cbcdaffb",
   "metadata": {},
   "outputs": [],
   "source": []
  }
 ],
 "metadata": {
  "kernelspec": {
   "display_name": "kne_dev",
   "language": "python",
   "name": "kne_dev"
  },
  "language_info": {
   "codemirror_mode": {
    "name": "ipython",
    "version": 3
   },
   "file_extension": ".py",
   "mimetype": "text/x-python",
   "name": "python",
   "nbconvert_exporter": "python",
   "pygments_lexer": "ipython3",
   "version": "3.9.15"
  }
 },
 "nbformat": 4,
 "nbformat_minor": 5
}
